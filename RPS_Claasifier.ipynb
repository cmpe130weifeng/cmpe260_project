{
  "cells": [
    {
      "cell_type": "code",
      "execution_count": null,
      "metadata": {
        "id": "YY67Gdja4ISG"
      },
      "outputs": [],
      "source": [
        "from PIL import Image\n",
        "import numpy as np # linear algebra\n",
        "import pandas as pd # data processing, CSV file I/O (e.g. pd.read_csv)\n",
        "from sklearn.preprocessing import OneHotEncoder\n",
        "from torch.utils.data import Dataset,DataLoader\n",
        "import torchvision.transforms as transforms\n",
        "import matplotlib.pyplot as plt\n",
        "import torch\n",
        "import torch.nn as nn\n",
        "from torch.autograd import Variable\n",
        "import torchvision"
      ]
    },
    {
      "cell_type": "code",
      "execution_count": null,
      "metadata": {
        "id": "aoI8lLM-5UUO"
      },
      "outputs": [],
      "source": [
        "import os"
      ]
    },
    {
      "cell_type": "code",
      "execution_count": null,
      "metadata": {
        "colab": {
          "base_uri": "https://localhost:8080/"
        },
        "id": "iar5owt35THO",
        "outputId": "c70e5bd7-029b-4e47-805f-9deef63631ef"
      },
      "outputs": [
        {
          "output_type": "stream",
          "name": "stdout",
          "text": [
            "Mounted at /content/drive\n"
          ]
        }
      ],
      "source": [
        "from google.colab import drive\n",
        "drive.mount('/content/drive')"
      ]
    },
    {
      "cell_type": "code",
      "execution_count": null,
      "metadata": {
        "id": "fvtcK14e5TEX"
      },
      "outputs": [],
      "source": [
        "train_dir = '/content/drive/MyDrive/RPS/data/Rock-Paper-Scissors/train'\n",
        "test_dir = '/content/drive/MyDrive/RPS/data/Rock-Paper-Scissors/test'"
      ]
    },
    {
      "cell_type": "code",
      "execution_count": null,
      "metadata": {
        "colab": {
          "base_uri": "https://localhost:8080/"
        },
        "id": "8a6Yhc1H5TBV",
        "outputId": "9e376295-4123-44d0-c09f-279edc252480"
      },
      "outputs": [
        {
          "output_type": "execute_result",
          "data": {
            "text/plain": [
              "OneHotEncoder()"
            ]
          },
          "metadata": {},
          "execution_count": 5
        }
      ],
      "source": [
        "labels=[[\"rock\"],[\"paper\"],[\"scissors\"]]\n",
        "labels=np.array(labels)\n",
        "labels=labels.reshape(-1,1)\n",
        "encoder = OneHotEncoder()\n",
        "encoder.fit(labels)"
      ]
    },
    {
      "cell_type": "code",
      "execution_count": null,
      "metadata": {
        "id": "CERbLgb95S-W"
      },
      "outputs": [],
      "source": [
        "class RPSDataset(Dataset):\n",
        "    def __init__(self,path,transform=None):\n",
        "        \n",
        "        self.path=path\n",
        "        files_rock=os.listdir(path+\"/rock\")\n",
        "        files_paper=os.listdir(path+\"/paper\")\n",
        "        files_scissors=os.listdir(path+\"/scissors\")\n",
        "        self.img=files_rock+files_paper+files_scissors\n",
        "        self.labels=[\"rock\"]*len(files_rock)+[\"paper\"]*len(files_paper)+[\"scissors\"]*len(files_scissors)\n",
        "        self.transform=transform\n",
        "        \n",
        "    def __getitem__(self,index):\n",
        "        selected_image_path=self.img[index]\n",
        "        \n",
        "        encoded_label=None\n",
        "        label_str=self.labels[index]\n",
        "        \n",
        "        if(label_str==\"rock\"):\n",
        "            encoded_label=0\n",
        "        elif(label_str==\"paper\"):\n",
        "            encoded_label=1\n",
        "        elif(label_str==\"scissors\"):\n",
        "            encoded_label=2\n",
        "        else:\n",
        "            pass\n",
        "        \n",
        "        #Fetch the image from directory\n",
        "        img=Image.open(self.path+\"/\"+label_str+\"/\"+selected_image_path)\n",
        "        #img=img.convert('L')\n",
        "        \n",
        "        \n",
        "        encoded_label=np.array(encoded_label)\n",
        "            \n",
        "        #Apply transforms \n",
        "        if self.transform is not None:\n",
        "            img=self.transform(img)\n",
        "            \n",
        "        mean, std = img.mean(), img.std()\n",
        "        normalize = transforms.Normalize(mean, std)\n",
        "        norm_tensor = normalize(img)\n",
        "        #unnorm_tensor = norm_tensor * std + mean\n",
        "        \n",
        "        return norm_tensor,encoded_label\n",
        "    \n",
        "    def __len__(self):\n",
        "        return(len(self.img))"
      ]
    },
    {
      "cell_type": "code",
      "execution_count": null,
      "metadata": {
        "id": "ghyCXq2r5S7f"
      },
      "outputs": [],
      "source": [
        "transform=transforms.Compose([\n",
        "    transforms.Resize([100,100]),\n",
        "    transforms.ToTensor()\n",
        "])"
      ]
    },
    {
      "cell_type": "code",
      "execution_count": null,
      "metadata": {
        "id": "jWt3JgBX5S4d"
      },
      "outputs": [],
      "source": [
        "train_set=RPSDataset(train_dir,transform=transform)\n",
        "test_set=RPSDataset(test_dir,transform=transform)"
      ]
    },
    {
      "cell_type": "code",
      "execution_count": null,
      "metadata": {
        "id": "Xy90FQgi5S1v"
      },
      "outputs": [],
      "source": [
        "g = torch.Generator()\n",
        "#Creating loader with batch size of 64 images\n",
        "train_loader=DataLoader(train_set, batch_size=64, num_workers=0,generator=g,shuffle=True)\n",
        "test_loader=DataLoader(test_set, batch_size=64, num_workers=0,generator=g,shuffle=True)"
      ]
    },
    {
      "cell_type": "code",
      "execution_count": null,
      "metadata": {
        "colab": {
          "base_uri": "https://localhost:8080/",
          "height": 322
        },
        "id": "K_mcrOBE5Syt",
        "outputId": "295543b0-7d63-4089-9063-903c21baac8c"
      },
      "outputs": [
        {
          "output_type": "stream",
          "name": "stderr",
          "text": [
            "WARNING:matplotlib.image:Clipping input data to the valid range for imshow with RGB data ([0..1] for floats or [0..255] for integers).\n"
          ]
        },
        {
          "output_type": "stream",
          "name": "stdout",
          "text": [
            "torch.Size([64, 4, 100, 100]) torch.Size([64])\n",
            "tensor(1)\n"
          ]
        },
        {
          "output_type": "display_data",
          "data": {
            "text/plain": [
              "<Figure size 432x288 with 1 Axes>"
            ],
            "image/png": "[encoded data removed]"
          },
          "metadata": {
            "needs_background": "light"
          }
        }
      ],
      "source": [
        "#Checking the batch retrieval\n",
        "\n",
        "images,label=next(iter(train_loader))\n",
        "print(images.size(),label.shape)\n",
        "\n",
        "#images -> The actual image tensors\n",
        "#encoded_label -> one hot encoded label\n",
        "#label -> actual text captcha label\n",
        "\n",
        "#Display first image in the batch\n",
        "plt.imshow(np.transpose(images[3].numpy(), (1, 2, 0)))\n",
        "print(label[4]) #labels=[[\"rock\"],[\"paper\"],[\"scissors\"]]"
      ]
    },
    {
      "cell_type": "code",
      "execution_count": null,
      "metadata": {
        "id": "w3fKs09R5Svt"
      },
      "outputs": [],
      "source": []
    },
    {
      "cell_type": "code",
      "execution_count": null,
      "metadata": {
        "id": "ZPzrLb355Ss_"
      },
      "outputs": [],
      "source": [
        "class RPSCNN(nn.Module):\n",
        "    \n",
        "    def __init__(self):\n",
        "        super(RPSCNN, self).__init__()\n",
        "        \n",
        "        self.layer1 = nn.Sequential(\n",
        "            nn.Conv2d(in_channels=4, out_channels=32, kernel_size=3, padding=1),\n",
        "            nn.ReLU(),\n",
        "            nn.MaxPool2d(kernel_size=2, stride=2)\n",
        "        )\n",
        "        \n",
        "        self.layer2 = nn.Sequential(\n",
        "            nn.Conv2d(in_channels=32, out_channels=64, kernel_size=3),\n",
        "            nn.ReLU(),\n",
        "            nn.MaxPool2d(kernel_size=2, stride=2)\n",
        "        )\n",
        "        \n",
        "        self.fc1 = nn.Linear(in_features=64*24*24, out_features=5000)\n",
        "        self.fc2 = nn.Linear(in_features=5000, out_features=10)\n",
        "        self.fc3 = nn.Linear(in_features=10, out_features=3)\n",
        "        \n",
        "    def forward(self, x):\n",
        "        out = self.layer1(x)\n",
        "        out = self.layer2(out)\n",
        "        out = out.view(out.size(0), -1)\n",
        "        out = self.fc1(out)\n",
        "        out = self.fc2(out)\n",
        "        out = self.fc3(out)\n",
        "        out=nn.functional.log_softmax(out,dim=1)\n",
        "        \n",
        "        return out"
      ]
    },
    {
      "cell_type": "code",
      "execution_count": null,
      "metadata": {
        "colab": {
          "base_uri": "https://localhost:8080/"
        },
        "id": "r2l8bZWf5SqJ",
        "outputId": "9ade2662-16ba-4cc9-91fa-5cc46f9f1e1b"
      },
      "outputs": [
        {
          "output_type": "stream",
          "name": "stdout",
          "text": [
            "RPSCNN(\n",
            "  (layer1): Sequential(\n",
            "    (0): Conv2d(4, 32, kernel_size=(3, 3), stride=(1, 1), padding=(1, 1))\n",
            "    (1): ReLU()\n",
            "    (2): MaxPool2d(kernel_size=2, stride=2, padding=0, dilation=1, ceil_mode=False)\n",
            "  )\n",
            "  (layer2): Sequential(\n",
            "    (0): Conv2d(32, 64, kernel_size=(3, 3), stride=(1, 1))\n",
            "    (1): ReLU()\n",
            "    (2): MaxPool2d(kernel_size=2, stride=2, padding=0, dilation=1, ceil_mode=False)\n",
            "  )\n",
            "  (fc1): Linear(in_features=36864, out_features=5000, bias=True)\n",
            "  (fc2): Linear(in_features=5000, out_features=10, bias=True)\n",
            "  (fc3): Linear(in_features=10, out_features=3, bias=True)\n",
            ")\n"
          ]
        }
      ],
      "source": [
        "model = RPSCNN()\n",
        "\n",
        "error = nn.CrossEntropyLoss()\n",
        "\n",
        "learning_rate = 0.001\n",
        "optimizer = torch.optim.Adam(model.parameters(), lr=learning_rate)\n",
        "print(model)"
      ]
    },
    {
      "cell_type": "code",
      "execution_count": null,
      "metadata": {
        "id": "t0SR-VA25SnG"
      },
      "outputs": [],
      "source": [
        "num_epochs = 6\n",
        "count = 0\n",
        "# Lists for visualization of loss and accuracy \n",
        "loss_list = []\n",
        "iteration_list = []\n",
        "accuracy_list = []\n",
        "\n",
        "# Lists for knowing classwise accuracy\n",
        "predictions_list = []\n",
        "labels_list = []"
      ]
    },
    {
      "cell_type": "code",
      "execution_count": null,
      "metadata": {
        "colab": {
          "base_uri": "https://localhost:8080/"
        },
        "id": "LEScJ5315SkO",
        "outputId": "5ff16298-db50-42ea-a3cc-939cf1c0cdcc"
      },
      "outputs": [
        {
          "output_type": "stream",
          "name": "stdout",
          "text": [
            "Epoch :  1 Iteration :  76\n",
            "Iteration: 76, Loss: 0.0014599148416891694, Accuracy: 71.7741928100586%\n",
            "Epoch :  1 Iteration :  77\n",
            "Iteration: 77, Loss: 0.0036565132904797792, Accuracy: 72.58064270019531%\n",
            "Epoch :  1 Iteration :  78\n",
            "Iteration: 78, Loss: 0.001276616589166224, Accuracy: 73.11827850341797%\n",
            "Epoch :  1 Iteration :  79\n",
            "Iteration: 79, Loss: 0.0015053546521812677, Accuracy: 72.8494644165039%\n",
            "Epoch :  1 Iteration :  80\n",
            "Iteration: 80, Loss: 0.0010137039935216308, Accuracy: 72.8494644165039%\n",
            "Epoch :  2 Iteration :  81\n",
            "Iteration: 81, Loss: 0.0011212804820388556, Accuracy: 72.58064270019531%\n",
            "Epoch :  2 Iteration :  82\n",
            "Iteration: 82, Loss: 0.00290858861990273, Accuracy: 72.8494644165039%\n",
            "Epoch :  2 Iteration :  83\n",
            "Iteration: 83, Loss: 0.0013095240574330091, Accuracy: 73.38710021972656%\n",
            "Epoch :  2 Iteration :  84\n",
            "Iteration: 84, Loss: 0.002398189390078187, Accuracy: 73.38710021972656%\n",
            "Epoch :  2 Iteration :  85\n",
            "Iteration: 85, Loss: 0.0017476819921284914, Accuracy: 73.38710021972656%\n",
            "Epoch :  2 Iteration :  86\n",
            "Iteration: 86, Loss: 0.0014606768963858485, Accuracy: 73.38710021972656%\n",
            "Epoch :  2 Iteration :  87\n",
            "Iteration: 87, Loss: 0.0008603864698670805, Accuracy: 73.38710021972656%\n",
            "Epoch :  2 Iteration :  88\n",
            "Iteration: 88, Loss: 0.0017407590057700872, Accuracy: 71.50537872314453%\n",
            "Epoch :  2 Iteration :  89\n",
            "Iteration: 89, Loss: 0.004313199315220118, Accuracy: 71.50537872314453%\n",
            "Epoch :  2 Iteration :  90\n",
            "Iteration: 90, Loss: 0.0004192324704490602, Accuracy: 71.7741928100586%\n",
            "Epoch :  2 Iteration :  91\n",
            "Iteration: 91, Loss: 0.0007706055766902864, Accuracy: 72.04301452636719%\n",
            "Epoch :  2 Iteration :  92\n",
            "Iteration: 92, Loss: 0.0008235828718170524, Accuracy: 72.04301452636719%\n",
            "Epoch :  2 Iteration :  93\n",
            "Iteration: 93, Loss: 0.001187524409033358, Accuracy: 72.04301452636719%\n",
            "Epoch :  2 Iteration :  94\n",
            "Iteration: 94, Loss: 0.0008612870587967336, Accuracy: 72.04301452636719%\n",
            "Epoch :  2 Iteration :  95\n",
            "Iteration: 95, Loss: 0.00044259463902562857, Accuracy: 72.04301452636719%\n",
            "Epoch :  2 Iteration :  96\n",
            "Iteration: 96, Loss: 0.0005374127067625523, Accuracy: 72.04301452636719%\n",
            "Epoch :  2 Iteration :  97\n",
            "Iteration: 97, Loss: 0.0009338876698166132, Accuracy: 72.04301452636719%\n",
            "Epoch :  2 Iteration :  98\n",
            "Iteration: 98, Loss: 0.001368544064462185, Accuracy: 71.7741928100586%\n",
            "Epoch :  2 Iteration :  99\n",
            "Iteration: 99, Loss: 0.0007394778076559305, Accuracy: 71.7741928100586%\n",
            "Epoch :  2 Iteration :  100\n",
            "Iteration: 100, Loss: 0.0006979134050197899, Accuracy: 71.7741928100586%\n",
            "Epoch :  2 Iteration :  101\n",
            "Iteration: 101, Loss: 0.0013336774427443743, Accuracy: 72.04301452636719%\n",
            "Epoch :  2 Iteration :  102\n",
            "Iteration: 102, Loss: 0.0005115110543556511, Accuracy: 72.31182861328125%\n",
            "Epoch :  2 Iteration :  103\n",
            "Iteration: 103, Loss: 0.0005824480322189629, Accuracy: 72.31182861328125%\n",
            "Epoch :  2 Iteration :  104\n",
            "Iteration: 104, Loss: 0.00041392946150153875, Accuracy: 72.31182861328125%\n",
            "Epoch :  2 Iteration :  105\n",
            "Iteration: 105, Loss: 0.0008487037266604602, Accuracy: 72.31182861328125%\n",
            "Epoch :  2 Iteration :  106\n",
            "Iteration: 106, Loss: 0.00033465426531620324, Accuracy: 72.04301452636719%\n",
            "Epoch :  2 Iteration :  107\n",
            "Iteration: 107, Loss: 0.0008522156858816743, Accuracy: 72.04301452636719%\n",
            "Epoch :  2 Iteration :  108\n",
            "Iteration: 108, Loss: 0.0007520344806835055, Accuracy: 72.04301452636719%\n",
            "Epoch :  2 Iteration :  109\n",
            "Iteration: 109, Loss: 0.00046650884905830026, Accuracy: 72.04301452636719%\n",
            "Epoch :  2 Iteration :  110\n",
            "Iteration: 110, Loss: 0.0004359255835879594, Accuracy: 72.04301452636719%\n",
            "Epoch :  2 Iteration :  111\n",
            "Iteration: 111, Loss: 0.0005401888047344983, Accuracy: 72.04301452636719%\n",
            "Epoch :  2 Iteration :  112\n",
            "Iteration: 112, Loss: 0.0005885960999876261, Accuracy: 72.04301452636719%\n",
            "Epoch :  2 Iteration :  113\n",
            "Iteration: 113, Loss: 0.000806448282673955, Accuracy: 72.31182861328125%\n",
            "Epoch :  2 Iteration :  114\n",
            "Iteration: 114, Loss: 0.0004707513435278088, Accuracy: 72.31182861328125%\n",
            "Epoch :  2 Iteration :  115\n",
            "Iteration: 115, Loss: 0.0007209717878140509, Accuracy: 72.31182861328125%\n",
            "Epoch :  2 Iteration :  116\n",
            "Iteration: 116, Loss: 0.001547209220007062, Accuracy: 72.31182861328125%\n",
            "Epoch :  2 Iteration :  117\n",
            "Iteration: 117, Loss: 0.0008240739116445184, Accuracy: 72.8494644165039%\n",
            "Epoch :  2 Iteration :  118\n",
            "Iteration: 118, Loss: 0.0005860968958586454, Accuracy: 72.58064270019531%\n",
            "Epoch :  2 Iteration :  119\n",
            "Iteration: 119, Loss: 0.00026818757760338485, Accuracy: 72.04301452636719%\n",
            "Epoch :  2 Iteration :  120\n",
            "Iteration: 120, Loss: 0.0009094723500311375, Accuracy: 72.04301452636719%\n",
            "Epoch :  3 Iteration :  121\n",
            "Iteration: 121, Loss: 0.0006112111732363701, Accuracy: 72.04301452636719%\n",
            "Epoch :  3 Iteration :  122\n",
            "Iteration: 122, Loss: 0.00031154818134382367, Accuracy: 72.31182861328125%\n",
            "Epoch :  3 Iteration :  123\n",
            "Iteration: 123, Loss: 0.000277289014775306, Accuracy: 72.31182861328125%\n",
            "Epoch :  3 Iteration :  124\n",
            "Iteration: 124, Loss: 0.0024703145027160645, Accuracy: 72.04301452636719%\n",
            "Epoch :  3 Iteration :  125\n",
            "Iteration: 125, Loss: 0.0007160850800573826, Accuracy: 72.04301452636719%\n",
            "Epoch :  3 Iteration :  126\n",
            "Iteration: 126, Loss: 0.000598994898609817, Accuracy: 72.58064270019531%\n",
            "Epoch :  3 Iteration :  127\n",
            "Iteration: 127, Loss: 0.0006925667403265834, Accuracy: 72.31182861328125%\n",
            "Epoch :  3 Iteration :  128\n",
            "Iteration: 128, Loss: 0.0005078824469819665, Accuracy: 72.31182861328125%\n",
            "Epoch :  3 Iteration :  129\n",
            "Iteration: 129, Loss: 0.0009071274544112384, Accuracy: 72.31182861328125%\n",
            "Epoch :  3 Iteration :  130\n",
            "Iteration: 130, Loss: 0.0002559991553425789, Accuracy: 72.04301452636719%\n",
            "Epoch :  3 Iteration :  131\n",
            "Iteration: 131, Loss: 0.0009319146629422903, Accuracy: 72.04301452636719%\n",
            "Epoch :  3 Iteration :  132\n",
            "Iteration: 132, Loss: 0.0006315195350907743, Accuracy: 72.04301452636719%\n",
            "Epoch :  3 Iteration :  133\n",
            "Iteration: 133, Loss: 0.0005336017929948866, Accuracy: 72.31182861328125%\n",
            "Epoch :  3 Iteration :  134\n",
            "Iteration: 134, Loss: 0.00043183163506910205, Accuracy: 72.31182861328125%\n",
            "Epoch :  3 Iteration :  135\n",
            "Iteration: 135, Loss: 0.000998305156826973, Accuracy: 72.31182861328125%\n",
            "Epoch :  3 Iteration :  136\n",
            "Iteration: 136, Loss: 0.00045074126683175564, Accuracy: 72.31182861328125%\n",
            "Epoch :  3 Iteration :  137\n",
            "Iteration: 137, Loss: 0.00022589878062717617, Accuracy: 72.04301452636719%\n",
            "Epoch :  3 Iteration :  138\n",
            "Iteration: 138, Loss: 0.0004243420553393662, Accuracy: 72.04301452636719%\n",
            "Epoch :  3 Iteration :  139\n",
            "Iteration: 139, Loss: 0.00041554091149009764, Accuracy: 72.04301452636719%\n",
            "Epoch :  3 Iteration :  140\n",
            "Iteration: 140, Loss: 0.0005358387134037912, Accuracy: 71.7741928100586%\n",
            "Epoch :  3 Iteration :  141\n",
            "Iteration: 141, Loss: 0.0007114037871360779, Accuracy: 71.7741928100586%\n",
            "Epoch :  3 Iteration :  142\n",
            "Iteration: 142, Loss: 0.0005759221967309713, Accuracy: 72.04301452636719%\n",
            "Epoch :  3 Iteration :  143\n",
            "Iteration: 143, Loss: 0.0003639531787484884, Accuracy: 72.04301452636719%\n",
            "Epoch :  3 Iteration :  144\n",
            "Iteration: 144, Loss: 0.000491802638862282, Accuracy: 72.58064270019531%\n",
            "Epoch :  3 Iteration :  145\n",
            "Iteration: 145, Loss: 0.000497890287078917, Accuracy: 72.58064270019531%\n",
            "Epoch :  3 Iteration :  146\n",
            "Iteration: 146, Loss: 0.0005248481757007539, Accuracy: 72.58064270019531%\n",
            "Epoch :  3 Iteration :  147\n",
            "Iteration: 147, Loss: 0.0006258607609197497, Accuracy: 72.58064270019531%\n",
            "Epoch :  3 Iteration :  148\n",
            "Iteration: 148, Loss: 0.0004175222129561007, Accuracy: 72.58064270019531%\n",
            "Epoch :  3 Iteration :  149\n",
            "Iteration: 149, Loss: 0.0003242478705942631, Accuracy: 72.31182861328125%\n",
            "Epoch :  3 Iteration :  150\n",
            "Iteration: 150, Loss: 0.0005017966614104807, Accuracy: 72.31182861328125%\n",
            "Epoch :  3 Iteration :  151\n",
            "Iteration: 151, Loss: 0.0006080938037484884, Accuracy: 72.31182861328125%\n",
            "Epoch :  3 Iteration :  152\n",
            "Iteration: 152, Loss: 0.0002349536371184513, Accuracy: 72.31182861328125%\n",
            "Epoch :  3 Iteration :  153\n",
            "Iteration: 153, Loss: 0.0003686197742354125, Accuracy: 72.58064270019531%\n",
            "Epoch :  3 Iteration :  154\n",
            "Iteration: 154, Loss: 0.0008591420482844114, Accuracy: 72.58064270019531%\n",
            "Epoch :  3 Iteration :  155\n",
            "Iteration: 155, Loss: 0.00028304755687713623, Accuracy: 72.58064270019531%\n",
            "Epoch :  3 Iteration :  156\n",
            "Iteration: 156, Loss: 0.0005266574444249272, Accuracy: 72.58064270019531%\n",
            "Epoch :  3 Iteration :  157\n",
            "Iteration: 157, Loss: 0.0003234963514842093, Accuracy: 72.31182861328125%\n",
            "Epoch :  3 Iteration :  158\n",
            "Iteration: 158, Loss: 0.0003019370778929442, Accuracy: 72.04301452636719%\n",
            "Epoch :  3 Iteration :  159\n",
            "Iteration: 159, Loss: 0.00019754108507186174, Accuracy: 72.04301452636719%\n",
            "Epoch :  3 Iteration :  160\n",
            "Iteration: 160, Loss: 0.0007922233198769391, Accuracy: 72.04301452636719%\n",
            "Epoch :  4 Iteration :  161\n",
            "Iteration: 161, Loss: 0.00019349873764440417, Accuracy: 72.04301452636719%\n",
            "Epoch :  4 Iteration :  162\n",
            "Iteration: 162, Loss: 0.00038721534656360745, Accuracy: 72.31182861328125%\n",
            "Epoch :  4 Iteration :  163\n",
            "Iteration: 163, Loss: 0.0005049566389061511, Accuracy: 72.31182861328125%\n",
            "Epoch :  4 Iteration :  164\n",
            "Iteration: 164, Loss: 0.0004577884392347187, Accuracy: 72.04301452636719%\n",
            "Epoch :  4 Iteration :  165\n",
            "Iteration: 165, Loss: 0.0006193305598571897, Accuracy: 72.04301452636719%\n",
            "Epoch :  4 Iteration :  166\n",
            "Iteration: 166, Loss: 0.0003907934296876192, Accuracy: 72.31182861328125%\n",
            "Epoch :  4 Iteration :  167\n",
            "Iteration: 167, Loss: 0.000234257968259044, Accuracy: 72.04301452636719%\n",
            "Epoch :  4 Iteration :  168\n",
            "Iteration: 168, Loss: 0.00031287051388062537, Accuracy: 72.04301452636719%\n",
            "Epoch :  4 Iteration :  169\n",
            "Iteration: 169, Loss: 0.0002883187844417989, Accuracy: 72.04301452636719%\n",
            "Epoch :  4 Iteration :  170\n",
            "Iteration: 170, Loss: 0.0002790049184113741, Accuracy: 72.31182861328125%\n",
            "Epoch :  4 Iteration :  171\n",
            "Iteration: 171, Loss: 0.00038020266219973564, Accuracy: 72.31182861328125%\n",
            "Epoch :  4 Iteration :  172\n",
            "Iteration: 172, Loss: 0.0005169751239009202, Accuracy: 72.31182861328125%\n",
            "Epoch :  4 Iteration :  173\n",
            "Iteration: 173, Loss: 0.0003499840968288481, Accuracy: 72.31182861328125%\n",
            "Epoch :  4 Iteration :  174\n",
            "Iteration: 174, Loss: 0.0006433615926653147, Accuracy: 72.31182861328125%\n",
            "Epoch :  4 Iteration :  175\n",
            "Iteration: 175, Loss: 0.0002668262168299407, Accuracy: 72.04301452636719%\n",
            "Epoch :  4 Iteration :  176\n",
            "Iteration: 176, Loss: 0.00023958088422659785, Accuracy: 72.04301452636719%\n",
            "Epoch :  4 Iteration :  177\n",
            "Iteration: 177, Loss: 0.00023381224309559911, Accuracy: 72.04301452636719%\n",
            "Epoch :  4 Iteration :  178\n",
            "Iteration: 178, Loss: 0.0004071056318935007, Accuracy: 72.04301452636719%\n",
            "Epoch :  4 Iteration :  179\n",
            "Iteration: 179, Loss: 0.0003050575323868543, Accuracy: 72.04301452636719%\n",
            "Epoch :  4 Iteration :  180\n",
            "Iteration: 180, Loss: 0.00028173040482215583, Accuracy: 72.04301452636719%\n",
            "Epoch :  4 Iteration :  181\n",
            "Iteration: 181, Loss: 0.0003921025199815631, Accuracy: 72.04301452636719%\n",
            "Epoch :  4 Iteration :  182\n",
            "Iteration: 182, Loss: 0.00042046720045618713, Accuracy: 72.04301452636719%\n",
            "Epoch :  4 Iteration :  183\n",
            "Iteration: 183, Loss: 0.0003606862446758896, Accuracy: 72.04301452636719%\n",
            "Epoch :  4 Iteration :  184\n",
            "Iteration: 184, Loss: 0.00013806104834657162, Accuracy: 72.04301452636719%\n",
            "Epoch :  4 Iteration :  185\n",
            "Iteration: 185, Loss: 0.00037030663224868476, Accuracy: 72.04301452636719%\n",
            "Epoch :  4 Iteration :  186\n",
            "Iteration: 186, Loss: 0.00019108860578853637, Accuracy: 72.04301452636719%\n",
            "Epoch :  4 Iteration :  187\n",
            "Iteration: 187, Loss: 0.0004257626715116203, Accuracy: 72.04301452636719%\n",
            "Epoch :  4 Iteration :  188\n",
            "Iteration: 188, Loss: 0.0002402194368187338, Accuracy: 72.04301452636719%\n",
            "Epoch :  4 Iteration :  189\n",
            "Iteration: 189, Loss: 0.0002044563298113644, Accuracy: 72.04301452636719%\n",
            "Epoch :  4 Iteration :  190\n",
            "Iteration: 190, Loss: 0.0004871039418503642, Accuracy: 72.04301452636719%\n",
            "Epoch :  4 Iteration :  191\n",
            "Iteration: 191, Loss: 0.00012278358917683363, Accuracy: 72.04301452636719%\n",
            "Epoch :  4 Iteration :  192\n",
            "Iteration: 192, Loss: 0.0002446378057356924, Accuracy: 72.04301452636719%\n",
            "Epoch :  4 Iteration :  193\n",
            "Iteration: 193, Loss: 0.00011903975246241316, Accuracy: 72.31182861328125%\n",
            "Epoch :  4 Iteration :  194\n",
            "Iteration: 194, Loss: 0.0003402574802748859, Accuracy: 72.31182861328125%\n",
            "Epoch :  4 Iteration :  195\n",
            "Iteration: 195, Loss: 0.0003294224152341485, Accuracy: 72.31182861328125%\n",
            "Epoch :  4 Iteration :  196\n",
            "Iteration: 196, Loss: 0.0001624649012228474, Accuracy: 72.31182861328125%\n",
            "Epoch :  4 Iteration :  197\n",
            "Iteration: 197, Loss: 0.00024746375856921077, Accuracy: 72.31182861328125%\n",
            "Epoch :  4 Iteration :  198\n",
            "Iteration: 198, Loss: 0.0004456167807802558, Accuracy: 72.31182861328125%\n",
            "Epoch :  4 Iteration :  199\n",
            "Iteration: 199, Loss: 0.00016000929463189095, Accuracy: 72.31182861328125%\n",
            "Epoch :  4 Iteration :  200\n",
            "Iteration: 200, Loss: 0.00025246315635740757, Accuracy: 72.31182861328125%\n",
            "Epoch :  5 Iteration :  201\n",
            "Iteration: 201, Loss: 0.0002414072077954188, Accuracy: 72.31182861328125%\n",
            "Epoch :  5 Iteration :  202\n",
            "Iteration: 202, Loss: 9.123383642872795e-05, Accuracy: 72.58064270019531%\n",
            "Epoch :  5 Iteration :  203\n",
            "Iteration: 203, Loss: 0.00033078400883823633, Accuracy: 72.58064270019531%\n",
            "Epoch :  5 Iteration :  204\n",
            "Iteration: 204, Loss: 0.0003338605456519872, Accuracy: 72.58064270019531%\n",
            "Epoch :  5 Iteration :  205\n",
            "Iteration: 205, Loss: 0.000207485121791251, Accuracy: 72.58064270019531%\n",
            "Epoch :  5 Iteration :  206\n",
            "Iteration: 206, Loss: 0.00027048628544434905, Accuracy: 72.58064270019531%\n",
            "Epoch :  5 Iteration :  207\n",
            "Iteration: 207, Loss: 0.00015267878188751638, Accuracy: 72.58064270019531%\n",
            "Epoch :  5 Iteration :  208\n",
            "Iteration: 208, Loss: 0.00017475603090133518, Accuracy: 72.58064270019531%\n",
            "Epoch :  5 Iteration :  209\n",
            "Iteration: 209, Loss: 0.00026303628692403436, Accuracy: 72.31182861328125%\n",
            "Epoch :  5 Iteration :  210\n",
            "Iteration: 210, Loss: 0.00037566665560007095, Accuracy: 72.58064270019531%\n",
            "Epoch :  5 Iteration :  211\n",
            "Iteration: 211, Loss: 0.00018282867677044123, Accuracy: 72.58064270019531%\n",
            "Epoch :  5 Iteration :  212\n",
            "Iteration: 212, Loss: 0.00021493919484782964, Accuracy: 72.58064270019531%\n",
            "Epoch :  5 Iteration :  213\n",
            "Iteration: 213, Loss: 0.00013297567784320563, Accuracy: 72.58064270019531%\n",
            "Epoch :  5 Iteration :  214\n",
            "Iteration: 214, Loss: 0.0003219054196961224, Accuracy: 72.58064270019531%\n",
            "Epoch :  5 Iteration :  215\n",
            "Iteration: 215, Loss: 0.00013659914839081466, Accuracy: 72.58064270019531%\n",
            "Epoch :  5 Iteration :  216\n",
            "Iteration: 216, Loss: 0.00022314801753964275, Accuracy: 72.31182861328125%\n",
            "Epoch :  5 Iteration :  217\n",
            "Iteration: 217, Loss: 0.0001242860162165016, Accuracy: 72.31182861328125%\n",
            "Epoch :  5 Iteration :  218\n",
            "Iteration: 218, Loss: 0.00014312670100480318, Accuracy: 72.31182861328125%\n",
            "Epoch :  5 Iteration :  219\n",
            "Iteration: 219, Loss: 0.0002874360070563853, Accuracy: 72.31182861328125%\n",
            "Epoch :  5 Iteration :  220\n",
            "Iteration: 220, Loss: 0.00028572409064508975, Accuracy: 72.31182861328125%\n",
            "Epoch :  5 Iteration :  221\n",
            "Iteration: 221, Loss: 0.00021920297876931727, Accuracy: 72.04301452636719%\n",
            "Epoch :  5 Iteration :  222\n",
            "Iteration: 222, Loss: 0.0002117383264703676, Accuracy: 72.04301452636719%\n",
            "Epoch :  5 Iteration :  223\n",
            "Iteration: 223, Loss: 0.00030428104219026864, Accuracy: 72.04301452636719%\n",
            "Epoch :  5 Iteration :  224\n",
            "Iteration: 224, Loss: 0.00019394885748624802, Accuracy: 72.04301452636719%\n",
            "Epoch :  5 Iteration :  225\n",
            "Iteration: 225, Loss: 0.00020122974819969386, Accuracy: 72.04301452636719%\n",
            "Epoch :  5 Iteration :  226\n",
            "Iteration: 226, Loss: 0.0002476032532285899, Accuracy: 72.04301452636719%\n",
            "Epoch :  5 Iteration :  227\n",
            "Iteration: 227, Loss: 0.00026439284556545317, Accuracy: 72.04301452636719%\n",
            "Epoch :  5 Iteration :  228\n",
            "Iteration: 228, Loss: 0.00014830194413661957, Accuracy: 72.04301452636719%\n",
            "Epoch :  5 Iteration :  229\n",
            "Iteration: 229, Loss: 0.00041368239908479154, Accuracy: 72.04301452636719%\n",
            "Epoch :  5 Iteration :  230\n",
            "Iteration: 230, Loss: 0.00018605809600558132, Accuracy: 72.04301452636719%\n",
            "Epoch :  5 Iteration :  231\n",
            "Iteration: 231, Loss: 0.0003541440819390118, Accuracy: 72.04301452636719%\n",
            "Epoch :  5 Iteration :  232\n",
            "Iteration: 232, Loss: 0.0002536273386795074, Accuracy: 72.04301452636719%\n",
            "Epoch :  5 Iteration :  233\n",
            "Iteration: 233, Loss: 0.0003067082434426993, Accuracy: 72.04301452636719%\n",
            "Epoch :  5 Iteration :  234\n",
            "Iteration: 234, Loss: 0.00015444897871930152, Accuracy: 72.04301452636719%\n",
            "Epoch :  5 Iteration :  235\n",
            "Iteration: 235, Loss: 0.00017081416444852948, Accuracy: 72.04301452636719%\n",
            "Epoch :  5 Iteration :  236\n",
            "Iteration: 236, Loss: 0.00016501275240443647, Accuracy: 72.31182861328125%\n",
            "Epoch :  5 Iteration :  237\n",
            "Iteration: 237, Loss: 0.0002165589394280687, Accuracy: 72.31182861328125%\n",
            "Epoch :  5 Iteration :  238\n",
            "Iteration: 238, Loss: 0.0002995828108396381, Accuracy: 72.31182861328125%\n",
            "Epoch :  5 Iteration :  239\n",
            "Iteration: 239, Loss: 0.00027780994423665106, Accuracy: 72.31182861328125%\n",
            "Epoch :  5 Iteration :  240\n",
            "Iteration: 240, Loss: 7.377640577033162e-05, Accuracy: 72.31182861328125%\n"
          ]
        }
      ],
      "source": [
        "for epoch in range(num_epochs):\n",
        "    for images, labels in train_loader:\n",
        "        # Transfering images and labels to GPU if available\n",
        "#         images, labels = images.to(device), labels.to(device)\n",
        "    \n",
        "        train = Variable(images)\n",
        "        labels = Variable(labels)\n",
        "        \n",
        "        # Forward pass \n",
        "        outputs = model(train)\n",
        "        error = nn.CrossEntropyLoss()\n",
        "        loss = error(outputs, labels)\n",
        "        \n",
        "        # Initializing a gradient as 0 so there is no mixing of gradient among the batches\n",
        "        optimizer.zero_grad()\n",
        "        \n",
        "        #Propagating the error backward\n",
        "        loss.backward()\n",
        "        \n",
        "        # Optimizing the parameters\n",
        "        optimizer.step()\n",
        "    \n",
        "        count += 1\n",
        "        print(\"Epoch : \",epoch,\"Iteration : \",count)\n",
        "    \n",
        "    # Testing the model\n",
        "    \n",
        "        if True:    # It's same as \"if count % 50 == 0\"\n",
        "            total = 0\n",
        "            correct = 0\n",
        "            \n",
        "            for images, labels in test_loader:\n",
        "                labels_list.append(labels)\n",
        "            \n",
        "                test = Variable(images)\n",
        "            \n",
        "                outputs = model(test)\n",
        "            \n",
        "                _,predictions = torch.max(outputs.data,1)\n",
        "                predictions_list.append(predictions)\n",
        "                #print(predictions,labels)\n",
        "                correct += (predictions == labels).sum()\n",
        "                total += len(labels)\n",
        "            \n",
        "            accuracy = correct * 100 / total\n",
        "            print(\"Iteration: {}, Loss: {}, Accuracy: {}%\".format(count, loss.data, accuracy))"
      ]
    },
    {
      "cell_type": "code",
      "execution_count": null,
      "metadata": {
        "id": "jeSKAu3k5Shf"
      },
      "outputs": [],
      "source": [
        "class ValidationDataset(Dataset):\n",
        "    def __init__(self,path,transform=None):\n",
        "        \n",
        "        self.path=path\n",
        "        self.img=os.listdir(path)\n",
        "        self.transform=transform\n",
        "        \n",
        "    def __getitem__(self,index):\n",
        "        selected_image_path=self.img[index]\n",
        "        \n",
        "        encoded_label=None\n",
        "        \n",
        "        if(\"rock\" in selected_image_path):\n",
        "            encoded_label=0\n",
        "        elif(\"paper\" in selected_image_path):\n",
        "            encoded_label=1\n",
        "        elif(\"scissors\" in selected_image_path):\n",
        "            encoded_label=2\n",
        "        else:\n",
        "            pass\n",
        "        \n",
        "        \n",
        "        #Fetch the image from directory\n",
        "        img=Image.open(self.path+\"/\"+selected_image_path)\n",
        "        #img=img.convert('L')\n",
        "        \n",
        "        \n",
        "        encoded_label=np.array(encoded_label)\n",
        "            \n",
        "        #Apply transforms \n",
        "        if self.transform is not None:\n",
        "            img=self.transform(img)\n",
        "            \n",
        "        mean, std = img.mean(), img.std()\n",
        "        normalize = transforms.Normalize(mean, std)\n",
        "        norm_tensor = normalize(img)\n",
        "        #unnorm_tensor = norm_tensor * std + mean\n",
        "        \n",
        "        return norm_tensor,encoded_label\n",
        "    \n",
        "    def __len__(self):\n",
        "        return(len(self.img))"
      ]
    },
    {
      "cell_type": "code",
      "execution_count": null,
      "metadata": {
        "id": "WF5ZFljw5Sen"
      },
      "outputs": [],
      "source": [
        "validation_set=ValidationDataset('/content/drive/MyDrive/RPS/data/validation', transform=transform)\n",
        "validation_loader=DataLoader(validation_set, batch_size=64, num_workers=0,generator=g,shuffle=True)"
      ]
    },
    {
      "cell_type": "code",
      "execution_count": null,
      "metadata": {
        "id": "6yk9VD_L5Sbu"
      },
      "outputs": [],
      "source": [
        "total = 0\n",
        "correct = 0"
      ]
    },
    {
      "cell_type": "code",
      "execution_count": null,
      "metadata": {
        "colab": {
          "base_uri": "https://localhost:8080/"
        },
        "id": "Q4nZhSuM5SY2",
        "outputId": "0c058235-943f-4286-ae91-98ab8f7f9820"
      },
      "outputs": [
        {
          "output_type": "stream",
          "name": "stdout",
          "text": [
            "Accuracy: 87.8787841796875%\n"
          ]
        }
      ],
      "source": [
        "for images, labels in validation_loader:\n",
        "    labels_list.append(labels)\n",
        "    test = Variable(images)\n",
        "    outputs = model(test)\n",
        "    _,predictions = torch.max(outputs.data,1)\n",
        "    predictions_list.append(predictions)\n",
        "    #print(predictions,labels)\n",
        "    correct += (predictions == labels).sum()\n",
        "    total += len(labels)\n",
        "            \n",
        "accuracy = correct * 100 / total\n",
        "print(\"Accuracy: {}%\".format(accuracy))"
      ]
    },
    {
      "cell_type": "code",
      "execution_count": null,
      "metadata": {
        "id": "owOaXKCV5SV9"
      },
      "outputs": [],
      "source": [
        "torch.save(model.state_dict(), 'checkpoint.pth')"
      ]
    },
    {
      "cell_type": "code",
      "execution_count": null,
      "metadata": {
        "id": "cyM2mxWI5STP"
      },
      "outputs": [],
      "source": [
        "def predict(path):\n",
        "    \n",
        "    img=Image.open(path)\n",
        "    \n",
        "    transform=transforms.Compose([\n",
        "        transforms.Resize([100,100]),\n",
        "        transforms.ToTensor()])\n",
        "\n",
        "    #Apply transforms \n",
        "    if transform is not None:\n",
        "        img=transform(img)\n",
        "    \n",
        "    plt.imshow(np.transpose(img.numpy(), (1, 2, 0)))\n",
        "            \n",
        "    mean, std = img.mean(), img.std()\n",
        "    normalize = transforms.Normalize(mean, std)\n",
        "    norm_tensor = normalize(img)\n",
        "    norm_tensor.unsqueeze_(0)\n",
        "    input_img = Variable(norm_tensor)\n",
        "    #unnorm_tensor = norm_tensor * std + mean\n",
        "        \n",
        "    label_str=None\n",
        "    if(\"rock\" in path.split(\"/\")[-1]):\n",
        "        label_str=\"rock\"\n",
        "    elif(\"paper\" in path.split(\"/\")[-1]):\n",
        "        label_str=\"paper\"\n",
        "    elif(\"scissors\" in path.split(\"/\")[-1]):\n",
        "        label_str=\"scissors\"\n",
        "    else:\n",
        "        pass\n",
        "    \n",
        "    print(\"Original label : \",label_str)\n",
        "    \n",
        "    model=RPSCNN()\n",
        "    checkpoint=torch.load('checkpoint.pth')\n",
        "    model.load_state_dict(checkpoint)\n",
        "    outputs = model(input_img)\n",
        "    _,predictions = torch.max(outputs.data,1)\n",
        "    predictions=predictions.detach().numpy()\n",
        "    dic={0:\"rock\",1:\"paper\",2:\"scissors\"}\n",
        "    print(\"Predicted label : \",dic[predictions[0]])"
      ]
    },
    {
      "cell_type": "code",
      "execution_count": null,
      "metadata": {
        "colab": {
          "base_uri": "https://localhost:8080/",
          "height": 304
        },
        "id": "Ntybzr3z5SQd",
        "outputId": "04f18ca0-cd5a-43ef-884b-6972b4cdee0b"
      },
      "outputs": [
        {
          "output_type": "stream",
          "name": "stdout",
          "text": [
            "Original label :  paper\n",
            "Predicted label :  paper\n"
          ]
        },
        {
          "output_type": "display_data",
          "data": {
            "text/plain": [
              "<Figure size 432x288 with 1 Axes>"
            ],
            "image/png": "[encoded data removed]"
          },
          "metadata": {
            "needs_background": "light"
          }
        }
      ],
      "source": [
        "predict('/content/drive/MyDrive/RPS/data/validation/paper-hires1.png')"
      ]
    },
    {
      "cell_type": "code",
      "execution_count": null,
      "metadata": {
        "id": "Bt5SkQyD5R3W"
      },
      "outputs": [],
      "source": []
    },
    {
      "cell_type": "code",
      "execution_count": null,
      "metadata": {
        "id": "Kh4WYSlU5R0m"
      },
      "outputs": [],
      "source": []
    }
  ],
  "metadata": {
    "accelerator": "GPU",
    "colab": {
      "provenance": []
    },
    "gpuClass": "standard",
    "kernelspec": {
      "display_name": "Python 3",
      "name": "python3"
    },
    "language_info": {
      "name": "python"
    }
  },
  "nbformat": 4,
  "nbformat_minor": 0
}